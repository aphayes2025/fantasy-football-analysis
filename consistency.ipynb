{
 "cells": [
  {
   "cell_type": "code",
   "execution_count": 5,
   "metadata": {},
   "outputs": [],
   "source": [
    "import pandas as pd\n",
    "import math"
   ]
  },
  {
   "cell_type": "code",
   "execution_count": 6,
   "metadata": {},
   "outputs": [],
   "source": [
    "N = 16\n",
    "# reading in csv\n",
    "df = pd.read_csv(\"fantasy-csvs/FantasyPros_Fantasy_Football_Points_WR_PPR.csv\")"
   ]
  },
  {
   "cell_type": "code",
   "execution_count": 7,
   "metadata": {},
   "outputs": [],
   "source": [
    "lst = [\"-\", \"BYE\",\"\"]\n",
    "std_dev_lst = []\n",
    "# looping through df\n",
    "for index, row in df.iterrows():\n",
    "    # setting avg\n",
    "    curr_mean = row[\"AVG\"]\n",
    "    sumT = 0\n",
    "    n = 17\n",
    "    # loop through N games\n",
    "    for i in range(1,18):\n",
    "        if row[f\"{i}\"] not in lst:\n",
    "            Xi = float(row[f\"{i}\"])\n",
    "            sumT += ((Xi - curr_mean) ** 2)\n",
    "        else:\n",
    "            n -= 1\n",
    "    std_dev = math.sqrt(sumT / n)\n",
    "    std_dev_lst.append(std_dev)\n",
    "    #print(f\"Player Name: {row['Player']}, Std_Dev: {std_dev}\")\n",
    "df.insert(loc=23,column=\"STD_DEV\", value=std_dev_lst,allow_duplicates=True)"
   ]
  },
  {
   "cell_type": "code",
   "execution_count": 8,
   "metadata": {},
   "outputs": [
    {
     "name": "stdout",
     "output_type": "stream",
     "text": [
      "                 Player     AVG    STD_DEV        CV\n",
      "0         JJETAS-W-KIRK  25.825   1.495619  0.057914\n",
      "6     Amon-Ra St. Brown  20.200   6.622336  0.327838\n",
      "16  Michael Pittman Jr.  16.200   5.645765  0.348504\n",
      "2        AMARI-W-WATSON  17.600   6.736468  0.382754\n",
      "26       Garrett Wilson  13.000   5.138944  0.395303\n",
      "23          Chris Olave  14.400   5.780369  0.401415\n",
      "5           Tyreek Hill  23.700   9.653566  0.407323\n",
      "33         Chris Godwin  12.400   5.260050  0.424198\n",
      "24          Rashee Rice  13.300   5.646072  0.424517\n",
      "36     Courtland Sutton  12.600   5.367308  0.425977\n",
      "32        Jaylen Waddle  14.200   6.192968  0.436125\n",
      "15        Brandon Aiyuk  16.200   7.081572  0.437134\n",
      "4           CeeDee Lamb  23.000  10.325242  0.448924\n",
      "10           Mike Evans  17.300   8.118998  0.469306\n",
      "22           DK Metcalf  14.900   7.044951  0.472815\n",
      "40     Justin Jefferson  18.500   8.821879  0.476858\n",
      "19        DeVonta Smith  14.200   6.825321  0.480656\n",
      "35       Terry McLaurin  12.000   5.899894  0.491658\n",
      "8            Puka Nacua  17.800   8.847245  0.497036\n",
      "31          Jayden Reed  13.500   6.711135  0.497121\n",
      "28          Zay Flowers  12.900   6.431174  0.498541\n",
      "38          Romeo Doubs  10.900   5.461341  0.501040\n",
      "7            A.J. Brown  18.100   9.230892  0.509994\n",
      "9          Keenan Allen  21.500  11.158784  0.519013\n",
      "12         Stefon Diggs  16.100   8.391178  0.521191\n",
      "34        Jakobi Meyers  13.100   7.044572  0.537754\n",
      "3      \"MOORE-W-FIELDS\"  20.618  12.480080  0.605300\n",
      "17         Deebo Samuel  17.000  10.326768  0.607457\n",
      "37        Tyler Lockett  11.600   7.067310  0.609251\n",
      "18         Adam Thielen  14.200   8.689577  0.611942\n",
      "21         Nico Collins  16.100  10.022582  0.622521\n",
      "42          Cooper Kupp  13.700   8.584288  0.626590\n",
      "29      DeAndre Hopkins  12.900   8.513812  0.659985\n",
      "27        Calvin Ridley  13.000   8.641506  0.664731\n",
      "25       George Pickens  13.000   8.660074  0.666160\n",
      "11             DJ Moore  17.300  11.578131  0.669256\n",
      "41            Tank Dell  15.000  10.045261  0.669684\n",
      "30       Jordan Addison  12.900   8.661048  0.671399\n",
      "39         Drake London  11.100   7.515140  0.677040\n",
      "14        Davante Adams  15.600  11.108668  0.712094\n",
      "13        Ja'Marr Chase  17.100  12.192211  0.712995\n",
      "1       JAMARR-W-BURROW  18.050  13.413685  0.743140\n",
      "44        Brandin Cooks  10.500   8.031563  0.764911\n",
      "20         Amari Cooper  15.100  12.013687  0.795608\n",
      "43           Gabe Davis  10.100   9.302352  0.921025\n"
     ]
    }
   ],
   "source": [
    "# getting top 40 receivers + 5 extras\n",
    "df_top = df.head(n=45)\n",
    "\n",
    "COV_lst = []\n",
    "for index, row in df_top.iterrows():\n",
    "    curr_mean = row['AVG']\n",
    "    curr_std = row['STD_DEV']\n",
    "    curr_COV = curr_std / curr_mean\n",
    "    COV_lst.append(curr_COV)\n",
    "\n",
    "df_top.insert(loc=24, column=\"CV\", value=COV_lst, allow_duplicates=True)\n",
    "\n",
    "df_final = df_top[['Player', 'AVG', 'STD_DEV', 'CV']]\n",
    "print(df_final.sort_values(by=['CV']))   "
   ]
  }
 ],
 "metadata": {
  "kernelspec": {
   "display_name": ".venv",
   "language": "python",
   "name": "python3"
  },
  "language_info": {
   "codemirror_mode": {
    "name": "ipython",
    "version": 3
   },
   "file_extension": ".py",
   "mimetype": "text/x-python",
   "name": "python",
   "nbconvert_exporter": "python",
   "pygments_lexer": "ipython3",
   "version": "3.11.5"
  }
 },
 "nbformat": 4,
 "nbformat_minor": 2
}
